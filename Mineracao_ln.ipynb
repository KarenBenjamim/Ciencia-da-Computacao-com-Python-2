{
  "nbformat": 4,
  "nbformat_minor": 0,
  "metadata": {
    "colab": {
      "name": "Mineracao-ln.ipynb",
      "provenance": [],
      "authorship_tag": "ABX9TyNrItWn2aN9XsJL73I2pgIg",
      "include_colab_link": true
    },
    "kernelspec": {
      "name": "python3",
      "display_name": "Python 3"
    },
    "language_info": {
      "name": "python"
    }
  },
  "cells": [
    {
      "cell_type": "markdown",
      "metadata": {
        "id": "view-in-github",
        "colab_type": "text"
      },
      "source": [
        "<a href=\"https://colab.research.google.com/github/KarenBenjamim/Ciencia-da-Computacao-com-Python-2/blob/main/Mineracao_ln.ipynb\" target=\"_parent\"><img src=\"https://colab.research.google.com/assets/colab-badge.svg\" alt=\"Open In Colab\"/></a>"
      ]
    },
    {
      "cell_type": "markdown",
      "metadata": {
        "id": "UWsaFjX5fWp_"
      },
      "source": [
        "# Mineração e Análise de Dados do LinkedIn"
      ]
    },
    {
      "cell_type": "markdown",
      "metadata": {
        "id": "TfQr3N6kfuls"
      },
      "source": [
        "Importações"
      ]
    },
    {
      "cell_type": "code",
      "metadata": {
        "id": "-UsjSODffr4F"
      },
      "source": [
        "import pandas as pd\n",
        "import plotly.express as px\n",
        "import numpy as np"
      ],
      "execution_count": 86,
      "outputs": []
    },
    {
      "cell_type": "markdown",
      "metadata": {
        "id": "qRPk5SNSfeBP"
      },
      "source": [
        "## Conexões"
      ]
    },
    {
      "cell_type": "code",
      "metadata": {
        "id": "LGaUF-oDfkJD"
      },
      "source": [
        "conexoes = pd.read_csv(\"Connections.csv\")"
      ],
      "execution_count": 3,
      "outputs": []
    },
    {
      "cell_type": "code",
      "metadata": {
        "colab": {
          "base_uri": "https://localhost:8080/"
        },
        "id": "TRJKCSXMgCaU",
        "outputId": "c9284492-4a43-4e74-8dff-85365d3c0758"
      },
      "source": [
        "conexoes.columns #colunas"
      ],
      "execution_count": 4,
      "outputs": [
        {
          "output_type": "execute_result",
          "data": {
            "text/plain": [
              "Index(['First Name', 'Last Name', 'Email Address', 'Company', 'Position',\n",
              "       'Connected On'],\n",
              "      dtype='object')"
            ]
          },
          "metadata": {
            "tags": []
          },
          "execution_count": 4
        }
      ]
    },
    {
      "cell_type": "code",
      "metadata": {
        "colab": {
          "base_uri": "https://localhost:8080/"
        },
        "id": "yX_Ghv7fgGDQ",
        "outputId": "9024524b-2463-4847-cfd1-6e7ce3faeb17"
      },
      "source": [
        "conexoes.shape #linhas, colunas"
      ],
      "execution_count": 5,
      "outputs": [
        {
          "output_type": "execute_result",
          "data": {
            "text/plain": [
              "(66, 6)"
            ]
          },
          "metadata": {
            "tags": []
          },
          "execution_count": 5
        }
      ]
    },
    {
      "cell_type": "code",
      "metadata": {
        "colab": {
          "base_uri": "https://localhost:8080/",
          "height": 444
        },
        "id": "L49mfwdOgH7x",
        "outputId": "3b2bdb81-7d97-4b06-9e1f-837b4d47b7bb"
      },
      "source": [
        "conexoes.head(10) #primeiros resistros"
      ],
      "execution_count": 6,
      "outputs": [
        {
          "output_type": "execute_result",
          "data": {
            "text/html": [
              "<div>\n",
              "<style scoped>\n",
              "    .dataframe tbody tr th:only-of-type {\n",
              "        vertical-align: middle;\n",
              "    }\n",
              "\n",
              "    .dataframe tbody tr th {\n",
              "        vertical-align: top;\n",
              "    }\n",
              "\n",
              "    .dataframe thead th {\n",
              "        text-align: right;\n",
              "    }\n",
              "</style>\n",
              "<table border=\"1\" class=\"dataframe\">\n",
              "  <thead>\n",
              "    <tr style=\"text-align: right;\">\n",
              "      <th></th>\n",
              "      <th>First Name</th>\n",
              "      <th>Last Name</th>\n",
              "      <th>Email Address</th>\n",
              "      <th>Company</th>\n",
              "      <th>Position</th>\n",
              "      <th>Connected On</th>\n",
              "    </tr>\n",
              "  </thead>\n",
              "  <tbody>\n",
              "    <tr>\n",
              "      <th>0</th>\n",
              "      <td>Milena Karelly</td>\n",
              "      <td>Benjamim Sousa</td>\n",
              "      <td>NaN</td>\n",
              "      <td>NaN</td>\n",
              "      <td>NaN</td>\n",
              "      <td>22 Jul 2021</td>\n",
              "    </tr>\n",
              "    <tr>\n",
              "      <th>1</th>\n",
              "      <td>Pedro</td>\n",
              "      <td>Beltrão</td>\n",
              "      <td>NaN</td>\n",
              "      <td>NaN</td>\n",
              "      <td>NaN</td>\n",
              "      <td>04 Jul 2021</td>\n",
              "    </tr>\n",
              "    <tr>\n",
              "      <th>2</th>\n",
              "      <td>Andreia</td>\n",
              "      <td>Philipp Cavalheiro</td>\n",
              "      <td>NaN</td>\n",
              "      <td>UNINASSAU</td>\n",
              "      <td>Coordenadora dos cursos de Ciência da Computaç...</td>\n",
              "      <td>23 Jun 2021</td>\n",
              "    </tr>\n",
              "    <tr>\n",
              "      <th>3</th>\n",
              "      <td>Allyson</td>\n",
              "      <td>Mandú</td>\n",
              "      <td>NaN</td>\n",
              "      <td>Divisao Pecas E Servicos</td>\n",
              "      <td>Auxiliar mecânico</td>\n",
              "      <td>23 Jun 2021</td>\n",
              "    </tr>\n",
              "    <tr>\n",
              "      <th>4</th>\n",
              "      <td>Luiz</td>\n",
              "      <td>Santana</td>\n",
              "      <td>NaN</td>\n",
              "      <td>Udemy</td>\n",
              "      <td>Course Instructor</td>\n",
              "      <td>30 May 2021</td>\n",
              "    </tr>\n",
              "    <tr>\n",
              "      <th>5</th>\n",
              "      <td>Guilherme</td>\n",
              "      <td>Araujo</td>\n",
              "      <td>NaN</td>\n",
              "      <td>Mandacaru Aerodesign</td>\n",
              "      <td>Aspirante de Aerodinâmica e Desempenho</td>\n",
              "      <td>22 May 2021</td>\n",
              "    </tr>\n",
              "    <tr>\n",
              "      <th>6</th>\n",
              "      <td>Ezequiel</td>\n",
              "      <td>Lopes</td>\n",
              "      <td>NaN</td>\n",
              "      <td>NARCISO ENXOVAIS</td>\n",
              "      <td>Assistente de sistema de informação</td>\n",
              "      <td>14 May 2021</td>\n",
              "    </tr>\n",
              "    <tr>\n",
              "      <th>7</th>\n",
              "      <td>Dayene</td>\n",
              "      <td>Gomes</td>\n",
              "      <td>NaN</td>\n",
              "      <td>Prefeitura da Cidade do Recife</td>\n",
              "      <td>Estagiário</td>\n",
              "      <td>12 May 2021</td>\n",
              "    </tr>\n",
              "    <tr>\n",
              "      <th>8</th>\n",
              "      <td>Affonso Henrick</td>\n",
              "      <td>de Lima Menezes</td>\n",
              "      <td>NaN</td>\n",
              "      <td>Avanade</td>\n",
              "      <td>Software Engineer</td>\n",
              "      <td>12 May 2021</td>\n",
              "    </tr>\n",
              "    <tr>\n",
              "      <th>9</th>\n",
              "      <td>Amit</td>\n",
              "      <td>Tiwary</td>\n",
              "      <td>NaN</td>\n",
              "      <td>Fastenal India</td>\n",
              "      <td>Software Developer</td>\n",
              "      <td>10 May 2021</td>\n",
              "    </tr>\n",
              "  </tbody>\n",
              "</table>\n",
              "</div>"
            ],
            "text/plain": [
              "        First Name  ... Connected On\n",
              "0  Milena Karelly   ...  22 Jul 2021\n",
              "1            Pedro  ...  04 Jul 2021\n",
              "2          Andreia  ...  23 Jun 2021\n",
              "3          Allyson  ...  23 Jun 2021\n",
              "4             Luiz  ...  30 May 2021\n",
              "5        Guilherme  ...  22 May 2021\n",
              "6         Ezequiel  ...  14 May 2021\n",
              "7           Dayene  ...  12 May 2021\n",
              "8  Affonso Henrick  ...  12 May 2021\n",
              "9            Amit   ...  10 May 2021\n",
              "\n",
              "[10 rows x 6 columns]"
            ]
          },
          "metadata": {
            "tags": []
          },
          "execution_count": 6
        }
      ]
    },
    {
      "cell_type": "code",
      "metadata": {
        "id": "g3IQDLApgL3O"
      },
      "source": [
        "conexoes.drop(labels = [\"Email Address\"], axis= 1, inplace= True)\n",
        "# deletar a coluna de email"
      ],
      "execution_count": 7,
      "outputs": []
    },
    {
      "cell_type": "code",
      "metadata": {
        "colab": {
          "base_uri": "https://localhost:8080/",
          "height": 419
        },
        "id": "u3WFr6YbgORf",
        "outputId": "bda870b2-3a66-418a-8e20-3e17fbd7780d"
      },
      "source": [
        "conexoes.isna()\n",
        "# ver se tem valores nulos\n",
        "# true falta um valor"
      ],
      "execution_count": 8,
      "outputs": [
        {
          "output_type": "execute_result",
          "data": {
            "text/html": [
              "<div>\n",
              "<style scoped>\n",
              "    .dataframe tbody tr th:only-of-type {\n",
              "        vertical-align: middle;\n",
              "    }\n",
              "\n",
              "    .dataframe tbody tr th {\n",
              "        vertical-align: top;\n",
              "    }\n",
              "\n",
              "    .dataframe thead th {\n",
              "        text-align: right;\n",
              "    }\n",
              "</style>\n",
              "<table border=\"1\" class=\"dataframe\">\n",
              "  <thead>\n",
              "    <tr style=\"text-align: right;\">\n",
              "      <th></th>\n",
              "      <th>First Name</th>\n",
              "      <th>Last Name</th>\n",
              "      <th>Company</th>\n",
              "      <th>Position</th>\n",
              "      <th>Connected On</th>\n",
              "    </tr>\n",
              "  </thead>\n",
              "  <tbody>\n",
              "    <tr>\n",
              "      <th>0</th>\n",
              "      <td>False</td>\n",
              "      <td>False</td>\n",
              "      <td>True</td>\n",
              "      <td>True</td>\n",
              "      <td>False</td>\n",
              "    </tr>\n",
              "    <tr>\n",
              "      <th>1</th>\n",
              "      <td>False</td>\n",
              "      <td>False</td>\n",
              "      <td>True</td>\n",
              "      <td>True</td>\n",
              "      <td>False</td>\n",
              "    </tr>\n",
              "    <tr>\n",
              "      <th>2</th>\n",
              "      <td>False</td>\n",
              "      <td>False</td>\n",
              "      <td>False</td>\n",
              "      <td>False</td>\n",
              "      <td>False</td>\n",
              "    </tr>\n",
              "    <tr>\n",
              "      <th>3</th>\n",
              "      <td>False</td>\n",
              "      <td>False</td>\n",
              "      <td>False</td>\n",
              "      <td>False</td>\n",
              "      <td>False</td>\n",
              "    </tr>\n",
              "    <tr>\n",
              "      <th>4</th>\n",
              "      <td>False</td>\n",
              "      <td>False</td>\n",
              "      <td>False</td>\n",
              "      <td>False</td>\n",
              "      <td>False</td>\n",
              "    </tr>\n",
              "    <tr>\n",
              "      <th>...</th>\n",
              "      <td>...</td>\n",
              "      <td>...</td>\n",
              "      <td>...</td>\n",
              "      <td>...</td>\n",
              "      <td>...</td>\n",
              "    </tr>\n",
              "    <tr>\n",
              "      <th>61</th>\n",
              "      <td>False</td>\n",
              "      <td>False</td>\n",
              "      <td>True</td>\n",
              "      <td>True</td>\n",
              "      <td>False</td>\n",
              "    </tr>\n",
              "    <tr>\n",
              "      <th>62</th>\n",
              "      <td>False</td>\n",
              "      <td>False</td>\n",
              "      <td>False</td>\n",
              "      <td>False</td>\n",
              "      <td>False</td>\n",
              "    </tr>\n",
              "    <tr>\n",
              "      <th>63</th>\n",
              "      <td>False</td>\n",
              "      <td>False</td>\n",
              "      <td>False</td>\n",
              "      <td>False</td>\n",
              "      <td>False</td>\n",
              "    </tr>\n",
              "    <tr>\n",
              "      <th>64</th>\n",
              "      <td>False</td>\n",
              "      <td>False</td>\n",
              "      <td>False</td>\n",
              "      <td>False</td>\n",
              "      <td>False</td>\n",
              "    </tr>\n",
              "    <tr>\n",
              "      <th>65</th>\n",
              "      <td>False</td>\n",
              "      <td>False</td>\n",
              "      <td>True</td>\n",
              "      <td>True</td>\n",
              "      <td>False</td>\n",
              "    </tr>\n",
              "  </tbody>\n",
              "</table>\n",
              "<p>66 rows × 5 columns</p>\n",
              "</div>"
            ],
            "text/plain": [
              "    First Name  Last Name  Company  Position  Connected On\n",
              "0        False      False     True      True         False\n",
              "1        False      False     True      True         False\n",
              "2        False      False    False     False         False\n",
              "3        False      False    False     False         False\n",
              "4        False      False    False     False         False\n",
              "..         ...        ...      ...       ...           ...\n",
              "61       False      False     True      True         False\n",
              "62       False      False    False     False         False\n",
              "63       False      False    False     False         False\n",
              "64       False      False    False     False         False\n",
              "65       False      False     True      True         False\n",
              "\n",
              "[66 rows x 5 columns]"
            ]
          },
          "metadata": {
            "tags": []
          },
          "execution_count": 8
        }
      ]
    },
    {
      "cell_type": "code",
      "metadata": {
        "colab": {
          "base_uri": "https://localhost:8080/"
        },
        "id": "JkJfX6kBgREo",
        "outputId": "b7ef3c81-cdda-41bf-eae6-af14422f378b"
      },
      "source": [
        "conexoes.isna().sum()\n",
        "#verifica quantas conexoes esta sem informacoes"
      ],
      "execution_count": 9,
      "outputs": [
        {
          "output_type": "execute_result",
          "data": {
            "text/plain": [
              "First Name       0\n",
              "Last Name        0\n",
              "Company         15\n",
              "Position        15\n",
              "Connected On     0\n",
              "dtype: int64"
            ]
          },
          "metadata": {
            "tags": []
          },
          "execution_count": 9
        }
      ]
    },
    {
      "cell_type": "code",
      "metadata": {
        "id": "h-QfEAODgSvX"
      },
      "source": [
        "conexoes.dropna(inplace=True)\n",
        "# deleta todas as coneções que tem algum dado faltante"
      ],
      "execution_count": 10,
      "outputs": []
    },
    {
      "cell_type": "code",
      "metadata": {
        "colab": {
          "base_uri": "https://localhost:8080/",
          "height": 461
        },
        "id": "GBYSgA6UgV2i",
        "outputId": "a0d001c9-ed3a-499c-af10-649eb070af27"
      },
      "source": [
        "conexoes[\"Full Name\"] = conexoes[\"First Name\"] + \" \" + conexoes[\"Last Name\"]\n",
        "conexoes.head(10)"
      ],
      "execution_count": 15,
      "outputs": [
        {
          "output_type": "execute_result",
          "data": {
            "text/html": [
              "<div>\n",
              "<style scoped>\n",
              "    .dataframe tbody tr th:only-of-type {\n",
              "        vertical-align: middle;\n",
              "    }\n",
              "\n",
              "    .dataframe tbody tr th {\n",
              "        vertical-align: top;\n",
              "    }\n",
              "\n",
              "    .dataframe thead th {\n",
              "        text-align: right;\n",
              "    }\n",
              "</style>\n",
              "<table border=\"1\" class=\"dataframe\">\n",
              "  <thead>\n",
              "    <tr style=\"text-align: right;\">\n",
              "      <th></th>\n",
              "      <th>First Name</th>\n",
              "      <th>Last Name</th>\n",
              "      <th>Company</th>\n",
              "      <th>Position</th>\n",
              "      <th>Connected On</th>\n",
              "      <th>Full Name</th>\n",
              "    </tr>\n",
              "  </thead>\n",
              "  <tbody>\n",
              "    <tr>\n",
              "      <th>2</th>\n",
              "      <td>Andreia</td>\n",
              "      <td>Philipp Cavalheiro</td>\n",
              "      <td>UNINASSAU</td>\n",
              "      <td>Coordenadora dos cursos de Ciência da Computaç...</td>\n",
              "      <td>23 Jun 2021</td>\n",
              "      <td>Andreia Philipp Cavalheiro</td>\n",
              "    </tr>\n",
              "    <tr>\n",
              "      <th>3</th>\n",
              "      <td>Allyson</td>\n",
              "      <td>Mandú</td>\n",
              "      <td>Divisao Pecas E Servicos</td>\n",
              "      <td>Auxiliar mecânico</td>\n",
              "      <td>23 Jun 2021</td>\n",
              "      <td>Allyson Mandú</td>\n",
              "    </tr>\n",
              "    <tr>\n",
              "      <th>4</th>\n",
              "      <td>Luiz</td>\n",
              "      <td>Santana</td>\n",
              "      <td>Udemy</td>\n",
              "      <td>Course Instructor</td>\n",
              "      <td>30 May 2021</td>\n",
              "      <td>Luiz Santana</td>\n",
              "    </tr>\n",
              "    <tr>\n",
              "      <th>5</th>\n",
              "      <td>Guilherme</td>\n",
              "      <td>Araujo</td>\n",
              "      <td>Mandacaru Aerodesign</td>\n",
              "      <td>Aspirante de Aerodinâmica e Desempenho</td>\n",
              "      <td>22 May 2021</td>\n",
              "      <td>Guilherme Araujo</td>\n",
              "    </tr>\n",
              "    <tr>\n",
              "      <th>6</th>\n",
              "      <td>Ezequiel</td>\n",
              "      <td>Lopes</td>\n",
              "      <td>NARCISO ENXOVAIS</td>\n",
              "      <td>Assistente de sistema de informação</td>\n",
              "      <td>14 May 2021</td>\n",
              "      <td>Ezequiel Lopes</td>\n",
              "    </tr>\n",
              "    <tr>\n",
              "      <th>7</th>\n",
              "      <td>Dayene</td>\n",
              "      <td>Gomes</td>\n",
              "      <td>Prefeitura da Cidade do Recife</td>\n",
              "      <td>Estagiário</td>\n",
              "      <td>12 May 2021</td>\n",
              "      <td>Dayene Gomes</td>\n",
              "    </tr>\n",
              "    <tr>\n",
              "      <th>8</th>\n",
              "      <td>Affonso Henrick</td>\n",
              "      <td>de Lima Menezes</td>\n",
              "      <td>Avanade</td>\n",
              "      <td>Software Engineer</td>\n",
              "      <td>12 May 2021</td>\n",
              "      <td>Affonso Henrick de Lima Menezes</td>\n",
              "    </tr>\n",
              "    <tr>\n",
              "      <th>9</th>\n",
              "      <td>Amit</td>\n",
              "      <td>Tiwary</td>\n",
              "      <td>Fastenal India</td>\n",
              "      <td>Software Developer</td>\n",
              "      <td>10 May 2021</td>\n",
              "      <td>Amit  Tiwary</td>\n",
              "    </tr>\n",
              "    <tr>\n",
              "      <th>10</th>\n",
              "      <td>Rodilson</td>\n",
              "      <td>Meira</td>\n",
              "      <td>Magnet marelli</td>\n",
              "      <td>Tecnico em manutenção elétrica</td>\n",
              "      <td>10 May 2021</td>\n",
              "      <td>Rodilson Meira</td>\n",
              "    </tr>\n",
              "    <tr>\n",
              "      <th>11</th>\n",
              "      <td>Mateus</td>\n",
              "      <td>Pinto</td>\n",
              "      <td>Stylo PE Promo</td>\n",
              "      <td>Promotor de vendas</td>\n",
              "      <td>10 May 2021</td>\n",
              "      <td>Mateus Pinto</td>\n",
              "    </tr>\n",
              "  </tbody>\n",
              "</table>\n",
              "</div>"
            ],
            "text/plain": [
              "         First Name  ...                        Full Name\n",
              "2           Andreia  ...       Andreia Philipp Cavalheiro\n",
              "3           Allyson  ...                    Allyson Mandú\n",
              "4              Luiz  ...                     Luiz Santana\n",
              "5         Guilherme  ...                 Guilherme Araujo\n",
              "6          Ezequiel  ...                   Ezequiel Lopes\n",
              "7            Dayene  ...                     Dayene Gomes\n",
              "8   Affonso Henrick  ...  Affonso Henrick de Lima Menezes\n",
              "9             Amit   ...                     Amit  Tiwary\n",
              "10         Rodilson  ...                   Rodilson Meira\n",
              "11           Mateus  ...                     Mateus Pinto\n",
              "\n",
              "[10 rows x 6 columns]"
            ]
          },
          "metadata": {
            "tags": []
          },
          "execution_count": 15
        }
      ]
    },
    {
      "cell_type": "code",
      "metadata": {
        "colab": {
          "base_uri": "https://localhost:8080/"
        },
        "id": "gIi0UuMN5OfJ",
        "outputId": "fa78dc4d-39ab-4d50-8d98-53c04d0527f6"
      },
      "source": [
        "conexoes.shape"
      ],
      "execution_count": 13,
      "outputs": [
        {
          "output_type": "execute_result",
          "data": {
            "text/plain": [
              "(51, 6)"
            ]
          },
          "metadata": {
            "tags": []
          },
          "execution_count": 13
        }
      ]
    },
    {
      "cell_type": "markdown",
      "metadata": {
        "id": "wgq2dr4MiTCu"
      },
      "source": [
        "## Convites"
      ]
    },
    {
      "cell_type": "code",
      "metadata": {
        "id": "FUBCmuc1iYqO"
      },
      "source": [
        "convites = pd.read_csv('Invitations.csv')"
      ],
      "execution_count": 57,
      "outputs": []
    },
    {
      "cell_type": "code",
      "metadata": {
        "id": "U9J18lQTieI4",
        "colab": {
          "base_uri": "https://localhost:8080/"
        },
        "outputId": "c082468f-cc4a-4edd-a021-3d008fd8cbd3"
      },
      "source": [
        "convites.isna().sum()"
      ],
      "execution_count": 58,
      "outputs": [
        {
          "output_type": "execute_result",
          "data": {
            "text/plain": [
              "From          0\n",
              "To            0\n",
              "Sent At       0\n",
              "Message      56\n",
              "Direction     0\n",
              "dtype: int64"
            ]
          },
          "metadata": {
            "tags": []
          },
          "execution_count": 58
        }
      ]
    },
    {
      "cell_type": "code",
      "metadata": {
        "id": "M-NRs7M5ihGE",
        "colab": {
          "base_uri": "https://localhost:8080/",
          "height": 173
        },
        "outputId": "6ba763c5-3caf-4f0b-e586-34950e31198a"
      },
      "source": [
        "convites[convites['Message'].notnull()].head(10)"
      ],
      "execution_count": 59,
      "outputs": [
        {
          "output_type": "execute_result",
          "data": {
            "text/html": [
              "<div>\n",
              "<style scoped>\n",
              "    .dataframe tbody tr th:only-of-type {\n",
              "        vertical-align: middle;\n",
              "    }\n",
              "\n",
              "    .dataframe tbody tr th {\n",
              "        vertical-align: top;\n",
              "    }\n",
              "\n",
              "    .dataframe thead th {\n",
              "        text-align: right;\n",
              "    }\n",
              "</style>\n",
              "<table border=\"1\" class=\"dataframe\">\n",
              "  <thead>\n",
              "    <tr style=\"text-align: right;\">\n",
              "      <th></th>\n",
              "      <th>From</th>\n",
              "      <th>To</th>\n",
              "      <th>Sent At</th>\n",
              "      <th>Message</th>\n",
              "      <th>Direction</th>\n",
              "    </tr>\n",
              "  </thead>\n",
              "  <tbody>\n",
              "    <tr>\n",
              "      <th>36</th>\n",
              "      <td>Bruna Lanzarini</td>\n",
              "      <td>Milainy Karen</td>\n",
              "      <td>4/12/21, 10:30 AM</td>\n",
              "      <td>Olá, Milainy! Faço parte do Microsoft Learn St...</td>\n",
              "      <td>INCOMING</td>\n",
              "    </tr>\n",
              "    <tr>\n",
              "      <th>52</th>\n",
              "      <td>Robert Rodrigues</td>\n",
              "      <td>Milainy Karen</td>\n",
              "      <td>2/22/21, 5:19 PM</td>\n",
              "      <td>Conectando via grupo da Rocketseat :)</td>\n",
              "      <td>INCOMING</td>\n",
              "    </tr>\n",
              "    <tr>\n",
              "      <th>54</th>\n",
              "      <td>Maycon Rodrigues</td>\n",
              "      <td>Milainy Karen</td>\n",
              "      <td>2/22/21, 5:07 PM</td>\n",
              "      <td>Olá, tudo bem? Estou participando do NLW e enc...</td>\n",
              "      <td>INCOMING</td>\n",
              "    </tr>\n",
              "    <tr>\n",
              "      <th>56</th>\n",
              "      <td>Jéssica  Damaceno</td>\n",
              "      <td>Milainy Karen</td>\n",
              "      <td>2/22/21, 4:40 PM</td>\n",
              "      <td>Oi Milainy, acabei de ler seu comentário na co...</td>\n",
              "      <td>INCOMING</td>\n",
              "    </tr>\n",
              "  </tbody>\n",
              "</table>\n",
              "</div>"
            ],
            "text/plain": [
              "                 From  ... Direction\n",
              "36    Bruna Lanzarini  ...  INCOMING\n",
              "52   Robert Rodrigues  ...  INCOMING\n",
              "54   Maycon Rodrigues  ...  INCOMING\n",
              "56  Jéssica  Damaceno  ...  INCOMING\n",
              "\n",
              "[4 rows x 5 columns]"
            ]
          },
          "metadata": {
            "tags": []
          },
          "execution_count": 59
        }
      ]
    },
    {
      "cell_type": "code",
      "metadata": {
        "id": "RrtnaTcLimLa"
      },
      "source": [
        "convites = convites[convites['Direction'] == 'INCOMING']"
      ],
      "execution_count": 60,
      "outputs": []
    },
    {
      "cell_type": "code",
      "metadata": {
        "id": "ooZg07CRiq9J",
        "colab": {
          "base_uri": "https://localhost:8080/"
        },
        "outputId": "cd8d78fe-3840-4f5b-fe7b-35567e605c26"
      },
      "source": [
        "np.unique(convites['Direction'])"
      ],
      "execution_count": 61,
      "outputs": [
        {
          "output_type": "execute_result",
          "data": {
            "text/plain": [
              "array(['INCOMING'], dtype=object)"
            ]
          },
          "metadata": {
            "tags": []
          },
          "execution_count": 61
        }
      ]
    },
    {
      "cell_type": "code",
      "metadata": {
        "id": "1o2B_zwAitkt",
        "colab": {
          "base_uri": "https://localhost:8080/",
          "height": 204
        },
        "outputId": "d68234d2-5a75-4608-9fa2-c50d4ce6b327"
      },
      "source": [
        "convites['Company'] = ''\n",
        "convites.head()"
      ],
      "execution_count": 62,
      "outputs": [
        {
          "output_type": "execute_result",
          "data": {
            "text/html": [
              "<div>\n",
              "<style scoped>\n",
              "    .dataframe tbody tr th:only-of-type {\n",
              "        vertical-align: middle;\n",
              "    }\n",
              "\n",
              "    .dataframe tbody tr th {\n",
              "        vertical-align: top;\n",
              "    }\n",
              "\n",
              "    .dataframe thead th {\n",
              "        text-align: right;\n",
              "    }\n",
              "</style>\n",
              "<table border=\"1\" class=\"dataframe\">\n",
              "  <thead>\n",
              "    <tr style=\"text-align: right;\">\n",
              "      <th></th>\n",
              "      <th>From</th>\n",
              "      <th>To</th>\n",
              "      <th>Sent At</th>\n",
              "      <th>Message</th>\n",
              "      <th>Direction</th>\n",
              "      <th>Company</th>\n",
              "    </tr>\n",
              "  </thead>\n",
              "  <tbody>\n",
              "    <tr>\n",
              "      <th>26</th>\n",
              "      <td>Pedro Beltrão</td>\n",
              "      <td>Milainy Karen</td>\n",
              "      <td>7/4/21, 1:50 AM</td>\n",
              "      <td>NaN</td>\n",
              "      <td>INCOMING</td>\n",
              "      <td></td>\n",
              "    </tr>\n",
              "    <tr>\n",
              "      <th>27</th>\n",
              "      <td>Allyson Mandú</td>\n",
              "      <td>Milainy Karen</td>\n",
              "      <td>6/22/21, 7:15 PM</td>\n",
              "      <td>NaN</td>\n",
              "      <td>INCOMING</td>\n",
              "      <td></td>\n",
              "    </tr>\n",
              "    <tr>\n",
              "      <th>28</th>\n",
              "      <td>Luiz Santana</td>\n",
              "      <td>Milainy Karen</td>\n",
              "      <td>5/30/21, 8:45 AM</td>\n",
              "      <td>NaN</td>\n",
              "      <td>INCOMING</td>\n",
              "      <td></td>\n",
              "    </tr>\n",
              "    <tr>\n",
              "      <th>29</th>\n",
              "      <td>Guilherme Araujo</td>\n",
              "      <td>Milainy Karen</td>\n",
              "      <td>5/22/21, 6:09 AM</td>\n",
              "      <td>NaN</td>\n",
              "      <td>INCOMING</td>\n",
              "      <td></td>\n",
              "    </tr>\n",
              "    <tr>\n",
              "      <th>30</th>\n",
              "      <td>Ezequiel Lopes</td>\n",
              "      <td>Milainy Karen</td>\n",
              "      <td>5/13/21, 10:29 PM</td>\n",
              "      <td>NaN</td>\n",
              "      <td>INCOMING</td>\n",
              "      <td></td>\n",
              "    </tr>\n",
              "  </tbody>\n",
              "</table>\n",
              "</div>"
            ],
            "text/plain": [
              "                From             To  ... Direction Company\n",
              "26     Pedro Beltrão  Milainy Karen  ...  INCOMING        \n",
              "27     Allyson Mandú  Milainy Karen  ...  INCOMING        \n",
              "28      Luiz Santana  Milainy Karen  ...  INCOMING        \n",
              "29  Guilherme Araujo  Milainy Karen  ...  INCOMING        \n",
              "30    Ezequiel Lopes  Milainy Karen  ...  INCOMING        \n",
              "\n",
              "[5 rows x 6 columns]"
            ]
          },
          "metadata": {
            "tags": []
          },
          "execution_count": 62
        }
      ]
    },
    {
      "cell_type": "code",
      "metadata": {
        "colab": {
          "base_uri": "https://localhost:8080/"
        },
        "id": "9TQNPSTJ6QOR",
        "outputId": "dbad6a01-827f-439e-9df1-204f19879571"
      },
      "source": [
        "convites.shape"
      ],
      "execution_count": 63,
      "outputs": [
        {
          "output_type": "execute_result",
          "data": {
            "text/plain": [
              "(34, 6)"
            ]
          },
          "metadata": {
            "tags": []
          },
          "execution_count": 63
        }
      ]
    },
    {
      "cell_type": "code",
      "metadata": {
        "id": "-w5hEMtjiwJh",
        "colab": {
          "base_uri": "https://localhost:8080/",
          "height": 35
        },
        "outputId": "04b1f5b6-7f17-4954-ddc5-1a881abd4574"
      },
      "source": [
        "conexoes[conexoes['Full Name'] == 'Allyson Mandú']['Company'].values[0]\n",
        "#Tranformado em array"
      ],
      "execution_count": 64,
      "outputs": [
        {
          "output_type": "execute_result",
          "data": {
            "application/vnd.google.colaboratory.intrinsic+json": {
              "type": "string"
            },
            "text/plain": [
              "'Divisao Pecas E Servicos'"
            ]
          },
          "metadata": {
            "tags": []
          },
          "execution_count": 64
        }
      ]
    },
    {
      "cell_type": "code",
      "metadata": {
        "id": "QcoMDtmY8EbV"
      },
      "source": [
        "convites = convites.reset_index(drop = True)"
      ],
      "execution_count": 65,
      "outputs": []
    },
    {
      "cell_type": "code",
      "metadata": {
        "id": "nCbKb6p-fq1C"
      },
      "source": [
        "for i in range(0, len(convites)):\n",
        "  try:\n",
        "    company = conexoes[conexoes[\"Full Name\"] == convites[\"From\"][i]][\"Company\"].values[0]\n",
        "    convites[\"Company\"][i] = company\n",
        "  except:\n",
        "    continue"
      ],
      "execution_count": 66,
      "outputs": []
    },
    {
      "cell_type": "code",
      "metadata": {
        "colab": {
          "base_uri": "https://localhost:8080/",
          "height": 204
        },
        "id": "LeFaw5Xj9V9w",
        "outputId": "a21cc805-7c40-49d9-b8d8-ac9f5633df54"
      },
      "source": [
        "convites.head()"
      ],
      "execution_count": 67,
      "outputs": [
        {
          "output_type": "execute_result",
          "data": {
            "text/html": [
              "<div>\n",
              "<style scoped>\n",
              "    .dataframe tbody tr th:only-of-type {\n",
              "        vertical-align: middle;\n",
              "    }\n",
              "\n",
              "    .dataframe tbody tr th {\n",
              "        vertical-align: top;\n",
              "    }\n",
              "\n",
              "    .dataframe thead th {\n",
              "        text-align: right;\n",
              "    }\n",
              "</style>\n",
              "<table border=\"1\" class=\"dataframe\">\n",
              "  <thead>\n",
              "    <tr style=\"text-align: right;\">\n",
              "      <th></th>\n",
              "      <th>From</th>\n",
              "      <th>To</th>\n",
              "      <th>Sent At</th>\n",
              "      <th>Message</th>\n",
              "      <th>Direction</th>\n",
              "      <th>Company</th>\n",
              "    </tr>\n",
              "  </thead>\n",
              "  <tbody>\n",
              "    <tr>\n",
              "      <th>0</th>\n",
              "      <td>Pedro Beltrão</td>\n",
              "      <td>Milainy Karen</td>\n",
              "      <td>7/4/21, 1:50 AM</td>\n",
              "      <td>NaN</td>\n",
              "      <td>INCOMING</td>\n",
              "      <td></td>\n",
              "    </tr>\n",
              "    <tr>\n",
              "      <th>1</th>\n",
              "      <td>Allyson Mandú</td>\n",
              "      <td>Milainy Karen</td>\n",
              "      <td>6/22/21, 7:15 PM</td>\n",
              "      <td>NaN</td>\n",
              "      <td>INCOMING</td>\n",
              "      <td>Divisao Pecas E Servicos</td>\n",
              "    </tr>\n",
              "    <tr>\n",
              "      <th>2</th>\n",
              "      <td>Luiz Santana</td>\n",
              "      <td>Milainy Karen</td>\n",
              "      <td>5/30/21, 8:45 AM</td>\n",
              "      <td>NaN</td>\n",
              "      <td>INCOMING</td>\n",
              "      <td>Udemy</td>\n",
              "    </tr>\n",
              "    <tr>\n",
              "      <th>3</th>\n",
              "      <td>Guilherme Araujo</td>\n",
              "      <td>Milainy Karen</td>\n",
              "      <td>5/22/21, 6:09 AM</td>\n",
              "      <td>NaN</td>\n",
              "      <td>INCOMING</td>\n",
              "      <td>Mandacaru Aerodesign</td>\n",
              "    </tr>\n",
              "    <tr>\n",
              "      <th>4</th>\n",
              "      <td>Ezequiel Lopes</td>\n",
              "      <td>Milainy Karen</td>\n",
              "      <td>5/13/21, 10:29 PM</td>\n",
              "      <td>NaN</td>\n",
              "      <td>INCOMING</td>\n",
              "      <td>NARCISO ENXOVAIS</td>\n",
              "    </tr>\n",
              "  </tbody>\n",
              "</table>\n",
              "</div>"
            ],
            "text/plain": [
              "               From             To  ... Direction                   Company\n",
              "0     Pedro Beltrão  Milainy Karen  ...  INCOMING                          \n",
              "1     Allyson Mandú  Milainy Karen  ...  INCOMING  Divisao Pecas E Servicos\n",
              "2      Luiz Santana  Milainy Karen  ...  INCOMING                     Udemy\n",
              "3  Guilherme Araujo  Milainy Karen  ...  INCOMING      Mandacaru Aerodesign\n",
              "4    Ezequiel Lopes  Milainy Karen  ...  INCOMING          NARCISO ENXOVAIS\n",
              "\n",
              "[5 rows x 6 columns]"
            ]
          },
          "metadata": {
            "tags": []
          },
          "execution_count": 67
        }
      ]
    },
    {
      "cell_type": "code",
      "metadata": {
        "colab": {
          "base_uri": "https://localhost:8080/",
          "height": 1000
        },
        "id": "AptlSbaF_f4-",
        "outputId": "94b0f54c-cc60-4334-8414-42864503e6bb"
      },
      "source": [
        "convites.drop(labels=[\"From\", \"To\", \"Sent At\", \"Message\", \"Direction\"], axis = 1, inplace= True)\n",
        "convites"
      ],
      "execution_count": 68,
      "outputs": [
        {
          "output_type": "execute_result",
          "data": {
            "text/html": [
              "<div>\n",
              "<style scoped>\n",
              "    .dataframe tbody tr th:only-of-type {\n",
              "        vertical-align: middle;\n",
              "    }\n",
              "\n",
              "    .dataframe tbody tr th {\n",
              "        vertical-align: top;\n",
              "    }\n",
              "\n",
              "    .dataframe thead th {\n",
              "        text-align: right;\n",
              "    }\n",
              "</style>\n",
              "<table border=\"1\" class=\"dataframe\">\n",
              "  <thead>\n",
              "    <tr style=\"text-align: right;\">\n",
              "      <th></th>\n",
              "      <th>Company</th>\n",
              "    </tr>\n",
              "  </thead>\n",
              "  <tbody>\n",
              "    <tr>\n",
              "      <th>0</th>\n",
              "      <td></td>\n",
              "    </tr>\n",
              "    <tr>\n",
              "      <th>1</th>\n",
              "      <td>Divisao Pecas E Servicos</td>\n",
              "    </tr>\n",
              "    <tr>\n",
              "      <th>2</th>\n",
              "      <td>Udemy</td>\n",
              "    </tr>\n",
              "    <tr>\n",
              "      <th>3</th>\n",
              "      <td>Mandacaru Aerodesign</td>\n",
              "    </tr>\n",
              "    <tr>\n",
              "      <th>4</th>\n",
              "      <td>NARCISO ENXOVAIS</td>\n",
              "    </tr>\n",
              "    <tr>\n",
              "      <th>5</th>\n",
              "      <td>Avanade</td>\n",
              "    </tr>\n",
              "    <tr>\n",
              "      <th>6</th>\n",
              "      <td>Magnet marelli</td>\n",
              "    </tr>\n",
              "    <tr>\n",
              "      <th>7</th>\n",
              "      <td>Fastenal India</td>\n",
              "    </tr>\n",
              "    <tr>\n",
              "      <th>8</th>\n",
              "      <td>Stylo PE Promo</td>\n",
              "    </tr>\n",
              "    <tr>\n",
              "      <th>9</th>\n",
              "      <td></td>\n",
              "    </tr>\n",
              "    <tr>\n",
              "      <th>10</th>\n",
              "      <td>Microsoft</td>\n",
              "    </tr>\n",
              "    <tr>\n",
              "      <th>11</th>\n",
              "      <td></td>\n",
              "    </tr>\n",
              "    <tr>\n",
              "      <th>12</th>\n",
              "      <td>PD Case Informatica Ltda</td>\n",
              "    </tr>\n",
              "    <tr>\n",
              "      <th>13</th>\n",
              "      <td></td>\n",
              "    </tr>\n",
              "    <tr>\n",
              "      <th>14</th>\n",
              "      <td>Direito</td>\n",
              "    </tr>\n",
              "    <tr>\n",
              "      <th>15</th>\n",
              "      <td></td>\n",
              "    </tr>\n",
              "    <tr>\n",
              "      <th>16</th>\n",
              "      <td>G4F Soluções Corporativas</td>\n",
              "    </tr>\n",
              "    <tr>\n",
              "      <th>17</th>\n",
              "      <td>Yaman</td>\n",
              "    </tr>\n",
              "    <tr>\n",
              "      <th>18</th>\n",
              "      <td>Agrotools</td>\n",
              "    </tr>\n",
              "    <tr>\n",
              "      <th>19</th>\n",
              "      <td>Norwegian Cruise Line Holdings Ltd.</td>\n",
              "    </tr>\n",
              "    <tr>\n",
              "      <th>20</th>\n",
              "      <td>NFC Restaurantes</td>\n",
              "    </tr>\n",
              "    <tr>\n",
              "      <th>21</th>\n",
              "      <td>Accenture Brasil</td>\n",
              "    </tr>\n",
              "    <tr>\n",
              "      <th>22</th>\n",
              "      <td>Secretaria de Estado da Saúde de São Paulo</td>\n",
              "    </tr>\n",
              "    <tr>\n",
              "      <th>23</th>\n",
              "      <td>Centro de Apoio ao Desenvolvimento Tecnológico...</td>\n",
              "    </tr>\n",
              "    <tr>\n",
              "      <th>24</th>\n",
              "      <td>Itechub</td>\n",
              "    </tr>\n",
              "    <tr>\n",
              "      <th>25</th>\n",
              "      <td>UDS Tecnologia</td>\n",
              "    </tr>\n",
              "    <tr>\n",
              "      <th>26</th>\n",
              "      <td>Cultura Inglesa S/A</td>\n",
              "    </tr>\n",
              "    <tr>\n",
              "      <th>27</th>\n",
              "      <td>Omni Banco &amp; Financeira</td>\n",
              "    </tr>\n",
              "    <tr>\n",
              "      <th>28</th>\n",
              "      <td>Consys - Consultoria e Sistemas</td>\n",
              "    </tr>\n",
              "    <tr>\n",
              "      <th>29</th>\n",
              "      <td>Centro Federal de Educação Tecnológica de Mina...</td>\n",
              "    </tr>\n",
              "    <tr>\n",
              "      <th>30</th>\n",
              "      <td>Labenu</td>\n",
              "    </tr>\n",
              "    <tr>\n",
              "      <th>31</th>\n",
              "      <td></td>\n",
              "    </tr>\n",
              "    <tr>\n",
              "      <th>32</th>\n",
              "      <td>CPFL Energia</td>\n",
              "    </tr>\n",
              "    <tr>\n",
              "      <th>33</th>\n",
              "      <td>Fidúcia SCM</td>\n",
              "    </tr>\n",
              "  </tbody>\n",
              "</table>\n",
              "</div>"
            ],
            "text/plain": [
              "                                              Company\n",
              "0                                                    \n",
              "1                            Divisao Pecas E Servicos\n",
              "2                                               Udemy\n",
              "3                                Mandacaru Aerodesign\n",
              "4                                    NARCISO ENXOVAIS\n",
              "5                                             Avanade\n",
              "6                                      Magnet marelli\n",
              "7                                      Fastenal India\n",
              "8                                      Stylo PE Promo\n",
              "9                                                    \n",
              "10                                          Microsoft\n",
              "11                                                   \n",
              "12                           PD Case Informatica Ltda\n",
              "13                                                   \n",
              "14                                            Direito\n",
              "15                                                   \n",
              "16                          G4F Soluções Corporativas\n",
              "17                                              Yaman\n",
              "18                                          Agrotools\n",
              "19                Norwegian Cruise Line Holdings Ltd.\n",
              "20                                   NFC Restaurantes\n",
              "21                                   Accenture Brasil\n",
              "22         Secretaria de Estado da Saúde de São Paulo\n",
              "23  Centro de Apoio ao Desenvolvimento Tecnológico...\n",
              "24                                            Itechub\n",
              "25                                     UDS Tecnologia\n",
              "26                                Cultura Inglesa S/A\n",
              "27                            Omni Banco & Financeira\n",
              "28                    Consys - Consultoria e Sistemas\n",
              "29  Centro Federal de Educação Tecnológica de Mina...\n",
              "30                                             Labenu\n",
              "31                                                   \n",
              "32                                       CPFL Energia\n",
              "33                                        Fidúcia SCM"
            ]
          },
          "metadata": {
            "tags": []
          },
          "execution_count": 68
        }
      ]
    },
    {
      "cell_type": "code",
      "metadata": {
        "id": "Nx42Z80IA8JG"
      },
      "source": [
        "convites.to_csv(\"Convites.csv\")"
      ],
      "execution_count": 69,
      "outputs": []
    },
    {
      "cell_type": "markdown",
      "metadata": {
        "id": "7APMWXymBRE7"
      },
      "source": [
        "### Geração de dados fakes"
      ]
    },
    {
      "cell_type": "markdown",
      "metadata": {
        "id": "wo5CUO7eBXsF"
      },
      "source": [
        "intuito de preservar a identidade dos contatos."
      ]
    },
    {
      "cell_type": "code",
      "metadata": {
        "colab": {
          "base_uri": "https://localhost:8080/",
          "height": 272
        },
        "id": "GrWEv41nBvR9",
        "outputId": "a40b1a32-48e3-4a1c-d999-ad0ffcde1975"
      },
      "source": [
        "conexoes.head()"
      ],
      "execution_count": 70,
      "outputs": [
        {
          "output_type": "execute_result",
          "data": {
            "text/html": [
              "<div>\n",
              "<style scoped>\n",
              "    .dataframe tbody tr th:only-of-type {\n",
              "        vertical-align: middle;\n",
              "    }\n",
              "\n",
              "    .dataframe tbody tr th {\n",
              "        vertical-align: top;\n",
              "    }\n",
              "\n",
              "    .dataframe thead th {\n",
              "        text-align: right;\n",
              "    }\n",
              "</style>\n",
              "<table border=\"1\" class=\"dataframe\">\n",
              "  <thead>\n",
              "    <tr style=\"text-align: right;\">\n",
              "      <th></th>\n",
              "      <th>First Name</th>\n",
              "      <th>Last Name</th>\n",
              "      <th>Company</th>\n",
              "      <th>Position</th>\n",
              "      <th>Connected On</th>\n",
              "      <th>Full Name</th>\n",
              "    </tr>\n",
              "  </thead>\n",
              "  <tbody>\n",
              "    <tr>\n",
              "      <th>2</th>\n",
              "      <td>Andreia</td>\n",
              "      <td>Philipp Cavalheiro</td>\n",
              "      <td>UNINASSAU</td>\n",
              "      <td>Coordenadora dos cursos de Ciência da Computaç...</td>\n",
              "      <td>23 Jun 2021</td>\n",
              "      <td>Andreia Philipp Cavalheiro</td>\n",
              "    </tr>\n",
              "    <tr>\n",
              "      <th>3</th>\n",
              "      <td>Allyson</td>\n",
              "      <td>Mandú</td>\n",
              "      <td>Divisao Pecas E Servicos</td>\n",
              "      <td>Auxiliar mecânico</td>\n",
              "      <td>23 Jun 2021</td>\n",
              "      <td>Allyson Mandú</td>\n",
              "    </tr>\n",
              "    <tr>\n",
              "      <th>4</th>\n",
              "      <td>Luiz</td>\n",
              "      <td>Santana</td>\n",
              "      <td>Udemy</td>\n",
              "      <td>Course Instructor</td>\n",
              "      <td>30 May 2021</td>\n",
              "      <td>Luiz Santana</td>\n",
              "    </tr>\n",
              "    <tr>\n",
              "      <th>5</th>\n",
              "      <td>Guilherme</td>\n",
              "      <td>Araujo</td>\n",
              "      <td>Mandacaru Aerodesign</td>\n",
              "      <td>Aspirante de Aerodinâmica e Desempenho</td>\n",
              "      <td>22 May 2021</td>\n",
              "      <td>Guilherme Araujo</td>\n",
              "    </tr>\n",
              "    <tr>\n",
              "      <th>6</th>\n",
              "      <td>Ezequiel</td>\n",
              "      <td>Lopes</td>\n",
              "      <td>NARCISO ENXOVAIS</td>\n",
              "      <td>Assistente de sistema de informação</td>\n",
              "      <td>14 May 2021</td>\n",
              "      <td>Ezequiel Lopes</td>\n",
              "    </tr>\n",
              "  </tbody>\n",
              "</table>\n",
              "</div>"
            ],
            "text/plain": [
              "  First Name           Last Name  ... Connected On                   Full Name\n",
              "2    Andreia  Philipp Cavalheiro  ...  23 Jun 2021  Andreia Philipp Cavalheiro\n",
              "3    Allyson               Mandú  ...  23 Jun 2021               Allyson Mandú\n",
              "4       Luiz             Santana  ...  30 May 2021                Luiz Santana\n",
              "5  Guilherme              Araujo  ...  22 May 2021            Guilherme Araujo\n",
              "6   Ezequiel               Lopes  ...  14 May 2021              Ezequiel Lopes\n",
              "\n",
              "[5 rows x 6 columns]"
            ]
          },
          "metadata": {
            "tags": []
          },
          "execution_count": 70
        }
      ]
    },
    {
      "cell_type": "code",
      "metadata": {
        "id": "pWLxXLS6Blst"
      },
      "source": [
        "conexoes.drop(labels = ['First Name', 'Last Name', 'Full Name'], axis = 1, inplace= True)"
      ],
      "execution_count": 71,
      "outputs": []
    },
    {
      "cell_type": "code",
      "metadata": {
        "colab": {
          "base_uri": "https://localhost:8080/",
          "height": 1000
        },
        "id": "uQAMyf5PCGbz",
        "outputId": "f92a0b25-da47-4c85-8b53-1e85ed31d08f"
      },
      "source": [
        "conexoes"
      ],
      "execution_count": 72,
      "outputs": [
        {
          "output_type": "execute_result",
          "data": {
            "text/html": [
              "<div>\n",
              "<style scoped>\n",
              "    .dataframe tbody tr th:only-of-type {\n",
              "        vertical-align: middle;\n",
              "    }\n",
              "\n",
              "    .dataframe tbody tr th {\n",
              "        vertical-align: top;\n",
              "    }\n",
              "\n",
              "    .dataframe thead th {\n",
              "        text-align: right;\n",
              "    }\n",
              "</style>\n",
              "<table border=\"1\" class=\"dataframe\">\n",
              "  <thead>\n",
              "    <tr style=\"text-align: right;\">\n",
              "      <th></th>\n",
              "      <th>Company</th>\n",
              "      <th>Position</th>\n",
              "      <th>Connected On</th>\n",
              "    </tr>\n",
              "  </thead>\n",
              "  <tbody>\n",
              "    <tr>\n",
              "      <th>2</th>\n",
              "      <td>UNINASSAU</td>\n",
              "      <td>Coordenadora dos cursos de Ciência da Computaç...</td>\n",
              "      <td>23 Jun 2021</td>\n",
              "    </tr>\n",
              "    <tr>\n",
              "      <th>3</th>\n",
              "      <td>Divisao Pecas E Servicos</td>\n",
              "      <td>Auxiliar mecânico</td>\n",
              "      <td>23 Jun 2021</td>\n",
              "    </tr>\n",
              "    <tr>\n",
              "      <th>4</th>\n",
              "      <td>Udemy</td>\n",
              "      <td>Course Instructor</td>\n",
              "      <td>30 May 2021</td>\n",
              "    </tr>\n",
              "    <tr>\n",
              "      <th>5</th>\n",
              "      <td>Mandacaru Aerodesign</td>\n",
              "      <td>Aspirante de Aerodinâmica e Desempenho</td>\n",
              "      <td>22 May 2021</td>\n",
              "    </tr>\n",
              "    <tr>\n",
              "      <th>6</th>\n",
              "      <td>NARCISO ENXOVAIS</td>\n",
              "      <td>Assistente de sistema de informação</td>\n",
              "      <td>14 May 2021</td>\n",
              "    </tr>\n",
              "    <tr>\n",
              "      <th>7</th>\n",
              "      <td>Prefeitura da Cidade do Recife</td>\n",
              "      <td>Estagiário</td>\n",
              "      <td>12 May 2021</td>\n",
              "    </tr>\n",
              "    <tr>\n",
              "      <th>8</th>\n",
              "      <td>Avanade</td>\n",
              "      <td>Software Engineer</td>\n",
              "      <td>12 May 2021</td>\n",
              "    </tr>\n",
              "    <tr>\n",
              "      <th>9</th>\n",
              "      <td>Fastenal India</td>\n",
              "      <td>Software Developer</td>\n",
              "      <td>10 May 2021</td>\n",
              "    </tr>\n",
              "    <tr>\n",
              "      <th>10</th>\n",
              "      <td>Magnet marelli</td>\n",
              "      <td>Tecnico em manutenção elétrica</td>\n",
              "      <td>10 May 2021</td>\n",
              "    </tr>\n",
              "    <tr>\n",
              "      <th>11</th>\n",
              "      <td>Stylo PE Promo</td>\n",
              "      <td>Promotor de vendas</td>\n",
              "      <td>10 May 2021</td>\n",
              "    </tr>\n",
              "    <tr>\n",
              "      <th>14</th>\n",
              "      <td>Microsoft</td>\n",
              "      <td>Customer Engineer</td>\n",
              "      <td>12 Apr 2021</td>\n",
              "    </tr>\n",
              "    <tr>\n",
              "      <th>16</th>\n",
              "      <td>PD Case Informatica Ltda</td>\n",
              "      <td>Analista Desenvolvedor Java</td>\n",
              "      <td>23 Mar 2021</td>\n",
              "    </tr>\n",
              "    <tr>\n",
              "      <th>18</th>\n",
              "      <td>Direito</td>\n",
              "      <td>Assistente de Advogado</td>\n",
              "      <td>23 Mar 2021</td>\n",
              "    </tr>\n",
              "    <tr>\n",
              "      <th>19</th>\n",
              "      <td>UNINASSAU</td>\n",
              "      <td>Lecturer</td>\n",
              "      <td>23 Mar 2021</td>\n",
              "    </tr>\n",
              "    <tr>\n",
              "      <th>21</th>\n",
              "      <td>Accenture</td>\n",
              "      <td>Associate Software Engineering</td>\n",
              "      <td>16 Mar 2021</td>\n",
              "    </tr>\n",
              "    <tr>\n",
              "      <th>22</th>\n",
              "      <td>Faus Cursos Online</td>\n",
              "      <td>Fundador</td>\n",
              "      <td>16 Mar 2021</td>\n",
              "    </tr>\n",
              "    <tr>\n",
              "      <th>23</th>\n",
              "      <td>G4F Soluções Corporativas</td>\n",
              "      <td>Analista de Suporte Técnico de Tecnologias Edu...</td>\n",
              "      <td>13 Mar 2021</td>\n",
              "    </tr>\n",
              "    <tr>\n",
              "      <th>24</th>\n",
              "      <td>Yaman</td>\n",
              "      <td>QA Test Analyst</td>\n",
              "      <td>05 Mar 2021</td>\n",
              "    </tr>\n",
              "    <tr>\n",
              "      <th>25</th>\n",
              "      <td>Agrotools</td>\n",
              "      <td>Estagiário de desenvolvimento</td>\n",
              "      <td>05 Mar 2021</td>\n",
              "    </tr>\n",
              "    <tr>\n",
              "      <th>26</th>\n",
              "      <td>NFC Restaurantes</td>\n",
              "      <td>Consultor de Lojas</td>\n",
              "      <td>05 Mar 2021</td>\n",
              "    </tr>\n",
              "    <tr>\n",
              "      <th>27</th>\n",
              "      <td>Norwegian Cruise Line Holdings Ltd.</td>\n",
              "      <td>Crew Enrichment Adm</td>\n",
              "      <td>05 Mar 2021</td>\n",
              "    </tr>\n",
              "    <tr>\n",
              "      <th>28</th>\n",
              "      <td>Accenture Brasil</td>\n",
              "      <td>Desenvolvedor de front-end</td>\n",
              "      <td>01 Mar 2021</td>\n",
              "    </tr>\n",
              "    <tr>\n",
              "      <th>29</th>\n",
              "      <td>Secretaria de Estado da Saúde de São Paulo</td>\n",
              "      <td>IT Manager</td>\n",
              "      <td>01 Mar 2021</td>\n",
              "    </tr>\n",
              "    <tr>\n",
              "      <th>30</th>\n",
              "      <td>Centro de Apoio ao Desenvolvimento Tecnológico...</td>\n",
              "      <td>Coordinator at Laboratório ITAE</td>\n",
              "      <td>28 Feb 2021</td>\n",
              "    </tr>\n",
              "    <tr>\n",
              "      <th>31</th>\n",
              "      <td>Itechub</td>\n",
              "      <td>Desenvolvedor de front-end</td>\n",
              "      <td>25 Feb 2021</td>\n",
              "    </tr>\n",
              "    <tr>\n",
              "      <th>32</th>\n",
              "      <td>Delta T Climatização</td>\n",
              "      <td>Estagiário</td>\n",
              "      <td>24 Feb 2021</td>\n",
              "    </tr>\n",
              "    <tr>\n",
              "      <th>33</th>\n",
              "      <td>Inovan.do</td>\n",
              "      <td>CTO</td>\n",
              "      <td>23 Feb 2021</td>\n",
              "    </tr>\n",
              "    <tr>\n",
              "      <th>34</th>\n",
              "      <td>Reacta Labs</td>\n",
              "      <td>Desenvolvedor de front-end</td>\n",
              "      <td>23 Feb 2021</td>\n",
              "    </tr>\n",
              "    <tr>\n",
              "      <th>35</th>\n",
              "      <td>Juice Bar Ads</td>\n",
              "      <td>Web Developer</td>\n",
              "      <td>23 Feb 2021</td>\n",
              "    </tr>\n",
              "    <tr>\n",
              "      <th>36</th>\n",
              "      <td>UDS Tecnologia</td>\n",
              "      <td>Desenvolvedor sênior</td>\n",
              "      <td>23 Feb 2021</td>\n",
              "    </tr>\n",
              "    <tr>\n",
              "      <th>38</th>\n",
              "      <td>Cultura Inglesa S/A</td>\n",
              "      <td>Estagiário</td>\n",
              "      <td>23 Feb 2021</td>\n",
              "    </tr>\n",
              "    <tr>\n",
              "      <th>39</th>\n",
              "      <td>Consys - Consultoria e Sistemas</td>\n",
              "      <td>Estagiário</td>\n",
              "      <td>23 Feb 2021</td>\n",
              "    </tr>\n",
              "    <tr>\n",
              "      <th>40</th>\n",
              "      <td>Omni Banco &amp; Financeira</td>\n",
              "      <td>Assistente de sistemas</td>\n",
              "      <td>23 Feb 2021</td>\n",
              "    </tr>\n",
              "    <tr>\n",
              "      <th>42</th>\n",
              "      <td>Mercado Livre</td>\n",
              "      <td>Agente de atendimento ao cliente</td>\n",
              "      <td>23 Feb 2021</td>\n",
              "    </tr>\n",
              "    <tr>\n",
              "      <th>43</th>\n",
              "      <td>Include Jr</td>\n",
              "      <td>Vice-presidente</td>\n",
              "      <td>23 Feb 2021</td>\n",
              "    </tr>\n",
              "    <tr>\n",
              "      <th>44</th>\n",
              "      <td>Centro Federal de Educação Tecnológica de Mina...</td>\n",
              "      <td>Secretário do DA-ECOM Campus Timóteo</td>\n",
              "      <td>23 Feb 2021</td>\n",
              "    </tr>\n",
              "    <tr>\n",
              "      <th>45</th>\n",
              "      <td>Labenu</td>\n",
              "      <td>Full Stack Developer Student in Labenu</td>\n",
              "      <td>23 Feb 2021</td>\n",
              "    </tr>\n",
              "    <tr>\n",
              "      <th>46</th>\n",
              "      <td>CPFL Energia</td>\n",
              "      <td>Analista Fiscal | Automações</td>\n",
              "      <td>23 Feb 2021</td>\n",
              "    </tr>\n",
              "    <tr>\n",
              "      <th>48</th>\n",
              "      <td>STA Maquinas Agrícolas</td>\n",
              "      <td>Estoquista</td>\n",
              "      <td>23 Feb 2021</td>\n",
              "    </tr>\n",
              "    <tr>\n",
              "      <th>49</th>\n",
              "      <td>UNINASSAU</td>\n",
              "      <td>Estudante de engenharia</td>\n",
              "      <td>22 Feb 2021</td>\n",
              "    </tr>\n",
              "    <tr>\n",
              "      <th>50</th>\n",
              "      <td>Caixa Econômica Federal</td>\n",
              "      <td>Atendente Auxiliar</td>\n",
              "      <td>22 Feb 2021</td>\n",
              "    </tr>\n",
              "    <tr>\n",
              "      <th>52</th>\n",
              "      <td>Fidúcia SCM</td>\n",
              "      <td>Desenvolvedor Back-end</td>\n",
              "      <td>16 Feb 2021</td>\n",
              "    </tr>\n",
              "    <tr>\n",
              "      <th>53</th>\n",
              "      <td>Viziomed | AI Health Solutions</td>\n",
              "      <td>Gerente de Appication e Suporte Técnico</td>\n",
              "      <td>16 Feb 2021</td>\n",
              "    </tr>\n",
              "    <tr>\n",
              "      <th>55</th>\n",
              "      <td>Alura</td>\n",
              "      <td>Instrutora e desenvolvedora front-end</td>\n",
              "      <td>16 Feb 2021</td>\n",
              "    </tr>\n",
              "    <tr>\n",
              "      <th>56</th>\n",
              "      <td>Achimostawinan Games</td>\n",
              "      <td>Project Manager</td>\n",
              "      <td>16 Feb 2021</td>\n",
              "    </tr>\n",
              "    <tr>\n",
              "      <th>58</th>\n",
              "      <td>-</td>\n",
              "      <td>Estudante de Graduação</td>\n",
              "      <td>21 Dec 2020</td>\n",
              "    </tr>\n",
              "    <tr>\n",
              "      <th>59</th>\n",
              "      <td>Receita Federal do Brasil</td>\n",
              "      <td>Estagiário de TI</td>\n",
              "      <td>21 Dec 2020</td>\n",
              "    </tr>\n",
              "    <tr>\n",
              "      <th>60</th>\n",
              "      <td>Proxxi Tecnologia</td>\n",
              "      <td>Auxiliar administrativo</td>\n",
              "      <td>21 Dec 2020</td>\n",
              "    </tr>\n",
              "    <tr>\n",
              "      <th>62</th>\n",
              "      <td>Instituto Brasileiro de Gestão e Marketing - IBGM</td>\n",
              "      <td>Professor</td>\n",
              "      <td>12 Nov 2020</td>\n",
              "    </tr>\n",
              "    <tr>\n",
              "      <th>63</th>\n",
              "      <td>CESAR</td>\n",
              "      <td>Consultora de Qualificação</td>\n",
              "      <td>11 Nov 2020</td>\n",
              "    </tr>\n",
              "    <tr>\n",
              "      <th>64</th>\n",
              "      <td>Filipe Deschamps Tech Inc.</td>\n",
              "      <td>Engenheiro de software</td>\n",
              "      <td>11 Nov 2020</td>\n",
              "    </tr>\n",
              "  </tbody>\n",
              "</table>\n",
              "</div>"
            ],
            "text/plain": [
              "                                              Company  ... Connected On\n",
              "2                                           UNINASSAU  ...  23 Jun 2021\n",
              "3                            Divisao Pecas E Servicos  ...  23 Jun 2021\n",
              "4                                               Udemy  ...  30 May 2021\n",
              "5                                Mandacaru Aerodesign  ...  22 May 2021\n",
              "6                                    NARCISO ENXOVAIS  ...  14 May 2021\n",
              "7                      Prefeitura da Cidade do Recife  ...  12 May 2021\n",
              "8                                             Avanade  ...  12 May 2021\n",
              "9                                      Fastenal India  ...  10 May 2021\n",
              "10                                     Magnet marelli  ...  10 May 2021\n",
              "11                                     Stylo PE Promo  ...  10 May 2021\n",
              "14                                          Microsoft  ...  12 Apr 2021\n",
              "16                           PD Case Informatica Ltda  ...  23 Mar 2021\n",
              "18                                            Direito  ...  23 Mar 2021\n",
              "19                                          UNINASSAU  ...  23 Mar 2021\n",
              "21                                          Accenture  ...  16 Mar 2021\n",
              "22                                 Faus Cursos Online  ...  16 Mar 2021\n",
              "23                          G4F Soluções Corporativas  ...  13 Mar 2021\n",
              "24                                              Yaman  ...  05 Mar 2021\n",
              "25                                          Agrotools  ...  05 Mar 2021\n",
              "26                                   NFC Restaurantes  ...  05 Mar 2021\n",
              "27                Norwegian Cruise Line Holdings Ltd.  ...  05 Mar 2021\n",
              "28                                   Accenture Brasil  ...  01 Mar 2021\n",
              "29         Secretaria de Estado da Saúde de São Paulo  ...  01 Mar 2021\n",
              "30  Centro de Apoio ao Desenvolvimento Tecnológico...  ...  28 Feb 2021\n",
              "31                                            Itechub  ...  25 Feb 2021\n",
              "32                               Delta T Climatização  ...  24 Feb 2021\n",
              "33                                          Inovan.do  ...  23 Feb 2021\n",
              "34                                        Reacta Labs  ...  23 Feb 2021\n",
              "35                                      Juice Bar Ads  ...  23 Feb 2021\n",
              "36                                     UDS Tecnologia  ...  23 Feb 2021\n",
              "38                                Cultura Inglesa S/A  ...  23 Feb 2021\n",
              "39                    Consys - Consultoria e Sistemas  ...  23 Feb 2021\n",
              "40                            Omni Banco & Financeira  ...  23 Feb 2021\n",
              "42                                      Mercado Livre  ...  23 Feb 2021\n",
              "43                                         Include Jr  ...  23 Feb 2021\n",
              "44  Centro Federal de Educação Tecnológica de Mina...  ...  23 Feb 2021\n",
              "45                                             Labenu  ...  23 Feb 2021\n",
              "46                                       CPFL Energia  ...  23 Feb 2021\n",
              "48                             STA Maquinas Agrícolas  ...  23 Feb 2021\n",
              "49                                          UNINASSAU  ...  22 Feb 2021\n",
              "50                            Caixa Econômica Federal  ...  22 Feb 2021\n",
              "52                                        Fidúcia SCM  ...  16 Feb 2021\n",
              "53                     Viziomed | AI Health Solutions  ...  16 Feb 2021\n",
              "55                                              Alura  ...  16 Feb 2021\n",
              "56                               Achimostawinan Games  ...  16 Feb 2021\n",
              "58                                                  -  ...  21 Dec 2020\n",
              "59                          Receita Federal do Brasil  ...  21 Dec 2020\n",
              "60                                  Proxxi Tecnologia  ...  21 Dec 2020\n",
              "62  Instituto Brasileiro de Gestão e Marketing - IBGM  ...  12 Nov 2020\n",
              "63                                              CESAR  ...  11 Nov 2020\n",
              "64                         Filipe Deschamps Tech Inc.  ...  11 Nov 2020\n",
              "\n",
              "[51 rows x 3 columns]"
            ]
          },
          "metadata": {
            "tags": []
          },
          "execution_count": 72
        }
      ]
    },
    {
      "cell_type": "code",
      "metadata": {
        "colab": {
          "base_uri": "https://localhost:8080/"
        },
        "id": "i4YrfSH-CNGH",
        "outputId": "214c0ceb-53b5-4033-a839-095a4b28bf34"
      },
      "source": [
        "pip install faker"
      ],
      "execution_count": 74,
      "outputs": [
        {
          "output_type": "stream",
          "text": [
            "Collecting faker\n",
            "  Downloading Faker-8.10.3-py3-none-any.whl (1.2 MB)\n",
            "\u001b[K     |████████████████████████████████| 1.2 MB 5.2 MB/s \n",
            "\u001b[?25hRequirement already satisfied: python-dateutil>=2.4 in /usr/local/lib/python3.7/dist-packages (from faker) (2.8.1)\n",
            "Requirement already satisfied: text-unidecode==1.3 in /usr/local/lib/python3.7/dist-packages (from faker) (1.3)\n",
            "Requirement already satisfied: six>=1.5 in /usr/local/lib/python3.7/dist-packages (from python-dateutil>=2.4->faker) (1.15.0)\n",
            "Installing collected packages: faker\n",
            "Successfully installed faker-8.10.3\n"
          ],
          "name": "stdout"
        }
      ]
    },
    {
      "cell_type": "code",
      "metadata": {
        "id": "R1NTcKNSCSJi"
      },
      "source": [
        "from faker import Faker\n",
        "fake = Faker()"
      ],
      "execution_count": 76,
      "outputs": []
    },
    {
      "cell_type": "code",
      "metadata": {
        "colab": {
          "base_uri": "https://localhost:8080/",
          "height": 35
        },
        "id": "AyDTcxDMClOF",
        "outputId": "6ee82706-373a-42bc-b12d-e5850b53966b"
      },
      "source": [
        "fake.name()"
      ],
      "execution_count": 77,
      "outputs": [
        {
          "output_type": "execute_result",
          "data": {
            "application/vnd.google.colaboratory.intrinsic+json": {
              "type": "string"
            },
            "text/plain": [
              "'Jacob Marshall'"
            ]
          },
          "metadata": {
            "tags": []
          },
          "execution_count": 77
        }
      ]
    },
    {
      "cell_type": "code",
      "metadata": {
        "id": "G2ygSMynCpVG"
      },
      "source": [
        "conexoes['Full name'] = ''"
      ],
      "execution_count": 79,
      "outputs": []
    },
    {
      "cell_type": "code",
      "metadata": {
        "id": "xu65MXj9C1yf"
      },
      "source": [
        "conexoes = conexoes.reset_index(drop = True)"
      ],
      "execution_count": 81,
      "outputs": []
    },
    {
      "cell_type": "code",
      "metadata": {
        "colab": {
          "base_uri": "https://localhost:8080/"
        },
        "id": "sD8cd9w-DB4W",
        "outputId": "7eab2608-5490-44d3-a367-a82f7dc99e7d"
      },
      "source": [
        "for i in range(0, len(conexoes)):\n",
        "  conexoes['Full name'][i] = fake.name()"
      ],
      "execution_count": 82,
      "outputs": [
        {
          "output_type": "stream",
          "text": [
            "/usr/local/lib/python3.7/dist-packages/ipykernel_launcher.py:2: SettingWithCopyWarning:\n",
            "\n",
            "\n",
            "A value is trying to be set on a copy of a slice from a DataFrame\n",
            "\n",
            "See the caveats in the documentation: https://pandas.pydata.org/pandas-docs/stable/user_guide/indexing.html#returning-a-view-versus-a-copy\n",
            "\n"
          ],
          "name": "stderr"
        }
      ]
    },
    {
      "cell_type": "code",
      "metadata": {
        "colab": {
          "base_uri": "https://localhost:8080/",
          "height": 1000
        },
        "id": "W_ear3_WDfgp",
        "outputId": "0c1d934d-8f33-475f-ad7a-169a1d7840b6"
      },
      "source": [
        "conexoes"
      ],
      "execution_count": 83,
      "outputs": [
        {
          "output_type": "execute_result",
          "data": {
            "text/html": [
              "<div>\n",
              "<style scoped>\n",
              "    .dataframe tbody tr th:only-of-type {\n",
              "        vertical-align: middle;\n",
              "    }\n",
              "\n",
              "    .dataframe tbody tr th {\n",
              "        vertical-align: top;\n",
              "    }\n",
              "\n",
              "    .dataframe thead th {\n",
              "        text-align: right;\n",
              "    }\n",
              "</style>\n",
              "<table border=\"1\" class=\"dataframe\">\n",
              "  <thead>\n",
              "    <tr style=\"text-align: right;\">\n",
              "      <th></th>\n",
              "      <th>index</th>\n",
              "      <th>Company</th>\n",
              "      <th>Position</th>\n",
              "      <th>Connected On</th>\n",
              "      <th>Full name</th>\n",
              "    </tr>\n",
              "  </thead>\n",
              "  <tbody>\n",
              "    <tr>\n",
              "      <th>0</th>\n",
              "      <td>2</td>\n",
              "      <td>UNINASSAU</td>\n",
              "      <td>Coordenadora dos cursos de Ciência da Computaç...</td>\n",
              "      <td>23 Jun 2021</td>\n",
              "      <td>Matthew Bowen</td>\n",
              "    </tr>\n",
              "    <tr>\n",
              "      <th>1</th>\n",
              "      <td>3</td>\n",
              "      <td>Divisao Pecas E Servicos</td>\n",
              "      <td>Auxiliar mecânico</td>\n",
              "      <td>23 Jun 2021</td>\n",
              "      <td>Tammy Alvarez</td>\n",
              "    </tr>\n",
              "    <tr>\n",
              "      <th>2</th>\n",
              "      <td>4</td>\n",
              "      <td>Udemy</td>\n",
              "      <td>Course Instructor</td>\n",
              "      <td>30 May 2021</td>\n",
              "      <td>Matthew Palmer</td>\n",
              "    </tr>\n",
              "    <tr>\n",
              "      <th>3</th>\n",
              "      <td>5</td>\n",
              "      <td>Mandacaru Aerodesign</td>\n",
              "      <td>Aspirante de Aerodinâmica e Desempenho</td>\n",
              "      <td>22 May 2021</td>\n",
              "      <td>Carla Beck</td>\n",
              "    </tr>\n",
              "    <tr>\n",
              "      <th>4</th>\n",
              "      <td>6</td>\n",
              "      <td>NARCISO ENXOVAIS</td>\n",
              "      <td>Assistente de sistema de informação</td>\n",
              "      <td>14 May 2021</td>\n",
              "      <td>Rachel Price</td>\n",
              "    </tr>\n",
              "    <tr>\n",
              "      <th>5</th>\n",
              "      <td>7</td>\n",
              "      <td>Prefeitura da Cidade do Recife</td>\n",
              "      <td>Estagiário</td>\n",
              "      <td>12 May 2021</td>\n",
              "      <td>Robert Washington</td>\n",
              "    </tr>\n",
              "    <tr>\n",
              "      <th>6</th>\n",
              "      <td>8</td>\n",
              "      <td>Avanade</td>\n",
              "      <td>Software Engineer</td>\n",
              "      <td>12 May 2021</td>\n",
              "      <td>Joann Gonzalez</td>\n",
              "    </tr>\n",
              "    <tr>\n",
              "      <th>7</th>\n",
              "      <td>9</td>\n",
              "      <td>Fastenal India</td>\n",
              "      <td>Software Developer</td>\n",
              "      <td>10 May 2021</td>\n",
              "      <td>Kimberly White</td>\n",
              "    </tr>\n",
              "    <tr>\n",
              "      <th>8</th>\n",
              "      <td>10</td>\n",
              "      <td>Magnet marelli</td>\n",
              "      <td>Tecnico em manutenção elétrica</td>\n",
              "      <td>10 May 2021</td>\n",
              "      <td>Charles Henderson III</td>\n",
              "    </tr>\n",
              "    <tr>\n",
              "      <th>9</th>\n",
              "      <td>11</td>\n",
              "      <td>Stylo PE Promo</td>\n",
              "      <td>Promotor de vendas</td>\n",
              "      <td>10 May 2021</td>\n",
              "      <td>John Allen</td>\n",
              "    </tr>\n",
              "    <tr>\n",
              "      <th>10</th>\n",
              "      <td>14</td>\n",
              "      <td>Microsoft</td>\n",
              "      <td>Customer Engineer</td>\n",
              "      <td>12 Apr 2021</td>\n",
              "      <td>Sharon Hernandez</td>\n",
              "    </tr>\n",
              "    <tr>\n",
              "      <th>11</th>\n",
              "      <td>16</td>\n",
              "      <td>PD Case Informatica Ltda</td>\n",
              "      <td>Analista Desenvolvedor Java</td>\n",
              "      <td>23 Mar 2021</td>\n",
              "      <td>Jordan Aguilar</td>\n",
              "    </tr>\n",
              "    <tr>\n",
              "      <th>12</th>\n",
              "      <td>18</td>\n",
              "      <td>Direito</td>\n",
              "      <td>Assistente de Advogado</td>\n",
              "      <td>23 Mar 2021</td>\n",
              "      <td>Matthew Saunders</td>\n",
              "    </tr>\n",
              "    <tr>\n",
              "      <th>13</th>\n",
              "      <td>19</td>\n",
              "      <td>UNINASSAU</td>\n",
              "      <td>Lecturer</td>\n",
              "      <td>23 Mar 2021</td>\n",
              "      <td>Victor Logan</td>\n",
              "    </tr>\n",
              "    <tr>\n",
              "      <th>14</th>\n",
              "      <td>21</td>\n",
              "      <td>Accenture</td>\n",
              "      <td>Associate Software Engineering</td>\n",
              "      <td>16 Mar 2021</td>\n",
              "      <td>Barbara Lynn</td>\n",
              "    </tr>\n",
              "    <tr>\n",
              "      <th>15</th>\n",
              "      <td>22</td>\n",
              "      <td>Faus Cursos Online</td>\n",
              "      <td>Fundador</td>\n",
              "      <td>16 Mar 2021</td>\n",
              "      <td>Amber Smith</td>\n",
              "    </tr>\n",
              "    <tr>\n",
              "      <th>16</th>\n",
              "      <td>23</td>\n",
              "      <td>G4F Soluções Corporativas</td>\n",
              "      <td>Analista de Suporte Técnico de Tecnologias Edu...</td>\n",
              "      <td>13 Mar 2021</td>\n",
              "      <td>Danny Jenkins</td>\n",
              "    </tr>\n",
              "    <tr>\n",
              "      <th>17</th>\n",
              "      <td>24</td>\n",
              "      <td>Yaman</td>\n",
              "      <td>QA Test Analyst</td>\n",
              "      <td>05 Mar 2021</td>\n",
              "      <td>April Nguyen</td>\n",
              "    </tr>\n",
              "    <tr>\n",
              "      <th>18</th>\n",
              "      <td>25</td>\n",
              "      <td>Agrotools</td>\n",
              "      <td>Estagiário de desenvolvimento</td>\n",
              "      <td>05 Mar 2021</td>\n",
              "      <td>Megan Garner</td>\n",
              "    </tr>\n",
              "    <tr>\n",
              "      <th>19</th>\n",
              "      <td>26</td>\n",
              "      <td>NFC Restaurantes</td>\n",
              "      <td>Consultor de Lojas</td>\n",
              "      <td>05 Mar 2021</td>\n",
              "      <td>Kristen Hoover</td>\n",
              "    </tr>\n",
              "    <tr>\n",
              "      <th>20</th>\n",
              "      <td>27</td>\n",
              "      <td>Norwegian Cruise Line Holdings Ltd.</td>\n",
              "      <td>Crew Enrichment Adm</td>\n",
              "      <td>05 Mar 2021</td>\n",
              "      <td>Mr. Robert Stewart</td>\n",
              "    </tr>\n",
              "    <tr>\n",
              "      <th>21</th>\n",
              "      <td>28</td>\n",
              "      <td>Accenture Brasil</td>\n",
              "      <td>Desenvolvedor de front-end</td>\n",
              "      <td>01 Mar 2021</td>\n",
              "      <td>Kathryn Velasquez</td>\n",
              "    </tr>\n",
              "    <tr>\n",
              "      <th>22</th>\n",
              "      <td>29</td>\n",
              "      <td>Secretaria de Estado da Saúde de São Paulo</td>\n",
              "      <td>IT Manager</td>\n",
              "      <td>01 Mar 2021</td>\n",
              "      <td>Daniel Barker</td>\n",
              "    </tr>\n",
              "    <tr>\n",
              "      <th>23</th>\n",
              "      <td>30</td>\n",
              "      <td>Centro de Apoio ao Desenvolvimento Tecnológico...</td>\n",
              "      <td>Coordinator at Laboratório ITAE</td>\n",
              "      <td>28 Feb 2021</td>\n",
              "      <td>Kelli Petty</td>\n",
              "    </tr>\n",
              "    <tr>\n",
              "      <th>24</th>\n",
              "      <td>31</td>\n",
              "      <td>Itechub</td>\n",
              "      <td>Desenvolvedor de front-end</td>\n",
              "      <td>25 Feb 2021</td>\n",
              "      <td>Roger Faulkner</td>\n",
              "    </tr>\n",
              "    <tr>\n",
              "      <th>25</th>\n",
              "      <td>32</td>\n",
              "      <td>Delta T Climatização</td>\n",
              "      <td>Estagiário</td>\n",
              "      <td>24 Feb 2021</td>\n",
              "      <td>John Booth</td>\n",
              "    </tr>\n",
              "    <tr>\n",
              "      <th>26</th>\n",
              "      <td>33</td>\n",
              "      <td>Inovan.do</td>\n",
              "      <td>CTO</td>\n",
              "      <td>23 Feb 2021</td>\n",
              "      <td>Kristen Miller</td>\n",
              "    </tr>\n",
              "    <tr>\n",
              "      <th>27</th>\n",
              "      <td>34</td>\n",
              "      <td>Reacta Labs</td>\n",
              "      <td>Desenvolvedor de front-end</td>\n",
              "      <td>23 Feb 2021</td>\n",
              "      <td>Michael Pena</td>\n",
              "    </tr>\n",
              "    <tr>\n",
              "      <th>28</th>\n",
              "      <td>35</td>\n",
              "      <td>Juice Bar Ads</td>\n",
              "      <td>Web Developer</td>\n",
              "      <td>23 Feb 2021</td>\n",
              "      <td>Kayla Gonzalez</td>\n",
              "    </tr>\n",
              "    <tr>\n",
              "      <th>29</th>\n",
              "      <td>36</td>\n",
              "      <td>UDS Tecnologia</td>\n",
              "      <td>Desenvolvedor sênior</td>\n",
              "      <td>23 Feb 2021</td>\n",
              "      <td>Brian Monroe</td>\n",
              "    </tr>\n",
              "    <tr>\n",
              "      <th>30</th>\n",
              "      <td>38</td>\n",
              "      <td>Cultura Inglesa S/A</td>\n",
              "      <td>Estagiário</td>\n",
              "      <td>23 Feb 2021</td>\n",
              "      <td>Ethan Eaton</td>\n",
              "    </tr>\n",
              "    <tr>\n",
              "      <th>31</th>\n",
              "      <td>39</td>\n",
              "      <td>Consys - Consultoria e Sistemas</td>\n",
              "      <td>Estagiário</td>\n",
              "      <td>23 Feb 2021</td>\n",
              "      <td>Katherine Graves</td>\n",
              "    </tr>\n",
              "    <tr>\n",
              "      <th>32</th>\n",
              "      <td>40</td>\n",
              "      <td>Omni Banco &amp; Financeira</td>\n",
              "      <td>Assistente de sistemas</td>\n",
              "      <td>23 Feb 2021</td>\n",
              "      <td>Ronald Hutchinson</td>\n",
              "    </tr>\n",
              "    <tr>\n",
              "      <th>33</th>\n",
              "      <td>42</td>\n",
              "      <td>Mercado Livre</td>\n",
              "      <td>Agente de atendimento ao cliente</td>\n",
              "      <td>23 Feb 2021</td>\n",
              "      <td>Nathaniel Mack</td>\n",
              "    </tr>\n",
              "    <tr>\n",
              "      <th>34</th>\n",
              "      <td>43</td>\n",
              "      <td>Include Jr</td>\n",
              "      <td>Vice-presidente</td>\n",
              "      <td>23 Feb 2021</td>\n",
              "      <td>Corey Gray</td>\n",
              "    </tr>\n",
              "    <tr>\n",
              "      <th>35</th>\n",
              "      <td>44</td>\n",
              "      <td>Centro Federal de Educação Tecnológica de Mina...</td>\n",
              "      <td>Secretário do DA-ECOM Campus Timóteo</td>\n",
              "      <td>23 Feb 2021</td>\n",
              "      <td>Frank Smith</td>\n",
              "    </tr>\n",
              "    <tr>\n",
              "      <th>36</th>\n",
              "      <td>45</td>\n",
              "      <td>Labenu</td>\n",
              "      <td>Full Stack Developer Student in Labenu</td>\n",
              "      <td>23 Feb 2021</td>\n",
              "      <td>Michelle Adkins</td>\n",
              "    </tr>\n",
              "    <tr>\n",
              "      <th>37</th>\n",
              "      <td>46</td>\n",
              "      <td>CPFL Energia</td>\n",
              "      <td>Analista Fiscal | Automações</td>\n",
              "      <td>23 Feb 2021</td>\n",
              "      <td>Michael Duncan</td>\n",
              "    </tr>\n",
              "    <tr>\n",
              "      <th>38</th>\n",
              "      <td>48</td>\n",
              "      <td>STA Maquinas Agrícolas</td>\n",
              "      <td>Estoquista</td>\n",
              "      <td>23 Feb 2021</td>\n",
              "      <td>Walter Perez</td>\n",
              "    </tr>\n",
              "    <tr>\n",
              "      <th>39</th>\n",
              "      <td>49</td>\n",
              "      <td>UNINASSAU</td>\n",
              "      <td>Estudante de engenharia</td>\n",
              "      <td>22 Feb 2021</td>\n",
              "      <td>Catherine Flores</td>\n",
              "    </tr>\n",
              "    <tr>\n",
              "      <th>40</th>\n",
              "      <td>50</td>\n",
              "      <td>Caixa Econômica Federal</td>\n",
              "      <td>Atendente Auxiliar</td>\n",
              "      <td>22 Feb 2021</td>\n",
              "      <td>Alicia Anderson</td>\n",
              "    </tr>\n",
              "    <tr>\n",
              "      <th>41</th>\n",
              "      <td>52</td>\n",
              "      <td>Fidúcia SCM</td>\n",
              "      <td>Desenvolvedor Back-end</td>\n",
              "      <td>16 Feb 2021</td>\n",
              "      <td>Alyssa Solis</td>\n",
              "    </tr>\n",
              "    <tr>\n",
              "      <th>42</th>\n",
              "      <td>53</td>\n",
              "      <td>Viziomed | AI Health Solutions</td>\n",
              "      <td>Gerente de Appication e Suporte Técnico</td>\n",
              "      <td>16 Feb 2021</td>\n",
              "      <td>James Turner</td>\n",
              "    </tr>\n",
              "    <tr>\n",
              "      <th>43</th>\n",
              "      <td>55</td>\n",
              "      <td>Alura</td>\n",
              "      <td>Instrutora e desenvolvedora front-end</td>\n",
              "      <td>16 Feb 2021</td>\n",
              "      <td>Alejandro Ramirez</td>\n",
              "    </tr>\n",
              "    <tr>\n",
              "      <th>44</th>\n",
              "      <td>56</td>\n",
              "      <td>Achimostawinan Games</td>\n",
              "      <td>Project Manager</td>\n",
              "      <td>16 Feb 2021</td>\n",
              "      <td>Mark Chan</td>\n",
              "    </tr>\n",
              "    <tr>\n",
              "      <th>45</th>\n",
              "      <td>58</td>\n",
              "      <td>-</td>\n",
              "      <td>Estudante de Graduação</td>\n",
              "      <td>21 Dec 2020</td>\n",
              "      <td>Kimberly Campbell</td>\n",
              "    </tr>\n",
              "    <tr>\n",
              "      <th>46</th>\n",
              "      <td>59</td>\n",
              "      <td>Receita Federal do Brasil</td>\n",
              "      <td>Estagiário de TI</td>\n",
              "      <td>21 Dec 2020</td>\n",
              "      <td>Tara Jackson</td>\n",
              "    </tr>\n",
              "    <tr>\n",
              "      <th>47</th>\n",
              "      <td>60</td>\n",
              "      <td>Proxxi Tecnologia</td>\n",
              "      <td>Auxiliar administrativo</td>\n",
              "      <td>21 Dec 2020</td>\n",
              "      <td>John Carson</td>\n",
              "    </tr>\n",
              "    <tr>\n",
              "      <th>48</th>\n",
              "      <td>62</td>\n",
              "      <td>Instituto Brasileiro de Gestão e Marketing - IBGM</td>\n",
              "      <td>Professor</td>\n",
              "      <td>12 Nov 2020</td>\n",
              "      <td>Victor Ingram</td>\n",
              "    </tr>\n",
              "    <tr>\n",
              "      <th>49</th>\n",
              "      <td>63</td>\n",
              "      <td>CESAR</td>\n",
              "      <td>Consultora de Qualificação</td>\n",
              "      <td>11 Nov 2020</td>\n",
              "      <td>Charles Rivas</td>\n",
              "    </tr>\n",
              "    <tr>\n",
              "      <th>50</th>\n",
              "      <td>64</td>\n",
              "      <td>Filipe Deschamps Tech Inc.</td>\n",
              "      <td>Engenheiro de software</td>\n",
              "      <td>11 Nov 2020</td>\n",
              "      <td>Cory Anderson</td>\n",
              "    </tr>\n",
              "  </tbody>\n",
              "</table>\n",
              "</div>"
            ],
            "text/plain": [
              "    index  ...              Full name\n",
              "0       2  ...          Matthew Bowen\n",
              "1       3  ...          Tammy Alvarez\n",
              "2       4  ...         Matthew Palmer\n",
              "3       5  ...             Carla Beck\n",
              "4       6  ...           Rachel Price\n",
              "5       7  ...      Robert Washington\n",
              "6       8  ...         Joann Gonzalez\n",
              "7       9  ...         Kimberly White\n",
              "8      10  ...  Charles Henderson III\n",
              "9      11  ...             John Allen\n",
              "10     14  ...       Sharon Hernandez\n",
              "11     16  ...         Jordan Aguilar\n",
              "12     18  ...       Matthew Saunders\n",
              "13     19  ...           Victor Logan\n",
              "14     21  ...           Barbara Lynn\n",
              "15     22  ...            Amber Smith\n",
              "16     23  ...          Danny Jenkins\n",
              "17     24  ...           April Nguyen\n",
              "18     25  ...           Megan Garner\n",
              "19     26  ...         Kristen Hoover\n",
              "20     27  ...     Mr. Robert Stewart\n",
              "21     28  ...      Kathryn Velasquez\n",
              "22     29  ...          Daniel Barker\n",
              "23     30  ...            Kelli Petty\n",
              "24     31  ...         Roger Faulkner\n",
              "25     32  ...             John Booth\n",
              "26     33  ...         Kristen Miller\n",
              "27     34  ...           Michael Pena\n",
              "28     35  ...         Kayla Gonzalez\n",
              "29     36  ...           Brian Monroe\n",
              "30     38  ...            Ethan Eaton\n",
              "31     39  ...       Katherine Graves\n",
              "32     40  ...      Ronald Hutchinson\n",
              "33     42  ...         Nathaniel Mack\n",
              "34     43  ...             Corey Gray\n",
              "35     44  ...            Frank Smith\n",
              "36     45  ...        Michelle Adkins\n",
              "37     46  ...         Michael Duncan\n",
              "38     48  ...           Walter Perez\n",
              "39     49  ...       Catherine Flores\n",
              "40     50  ...        Alicia Anderson\n",
              "41     52  ...           Alyssa Solis\n",
              "42     53  ...           James Turner\n",
              "43     55  ...      Alejandro Ramirez\n",
              "44     56  ...              Mark Chan\n",
              "45     58  ...      Kimberly Campbell\n",
              "46     59  ...           Tara Jackson\n",
              "47     60  ...            John Carson\n",
              "48     62  ...          Victor Ingram\n",
              "49     63  ...          Charles Rivas\n",
              "50     64  ...          Cory Anderson\n",
              "\n",
              "[51 rows x 5 columns]"
            ]
          },
          "metadata": {
            "tags": []
          },
          "execution_count": 83
        }
      ]
    },
    {
      "cell_type": "code",
      "metadata": {
        "id": "A5s0lzVyDlZl"
      },
      "source": [
        "conexoes.to_csv('conexoes.csv')"
      ],
      "execution_count": 84,
      "outputs": []
    },
    {
      "cell_type": "markdown",
      "metadata": {
        "id": "wq6u2iYIRXNm"
      },
      "source": [
        "## Mensagens"
      ]
    },
    {
      "cell_type": "code",
      "metadata": {
        "id": "Ivw6sPqHRcqr"
      },
      "source": [
        "mensagens = pd.read_csv(\"messages.csv\")"
      ],
      "execution_count": 88,
      "outputs": []
    },
    {
      "cell_type": "code",
      "metadata": {
        "colab": {
          "base_uri": "https://localhost:8080/"
        },
        "id": "7C6atQVXSPeX",
        "outputId": "9138caa6-6c10-415d-e3ef-fb5fe6b28cf8"
      },
      "source": [
        "mensagens.columns"
      ],
      "execution_count": 89,
      "outputs": [
        {
          "output_type": "execute_result",
          "data": {
            "text/plain": [
              "Index(['CONVERSATION ID', 'CONVERSATION TITLE', 'FROM', 'SENDER PROFILE URL',\n",
              "       'TO', 'DATE', 'SUBJECT', 'CONTENT', 'FOLDER'],\n",
              "      dtype='object')"
            ]
          },
          "metadata": {
            "tags": []
          },
          "execution_count": 89
        }
      ]
    },
    {
      "cell_type": "code",
      "metadata": {
        "colab": {
          "base_uri": "https://localhost:8080/"
        },
        "id": "uOAMho6xSWSz",
        "outputId": "8a01e466-f515-47e0-d5b8-2e5655a69236"
      },
      "source": [
        "mensagens.shape"
      ],
      "execution_count": 90,
      "outputs": [
        {
          "output_type": "execute_result",
          "data": {
            "text/plain": [
              "(139, 9)"
            ]
          },
          "metadata": {
            "tags": []
          },
          "execution_count": 90
        }
      ]
    },
    {
      "cell_type": "code",
      "metadata": {
        "colab": {
          "base_uri": "https://localhost:8080/",
          "height": 202
        },
        "id": "DR8jx9_qSalO",
        "outputId": "b129d2ac-fb22-4ce2-860e-d7f96f05b996"
      },
      "source": [
        "mensagens.head(1)"
      ],
      "execution_count": 91,
      "outputs": [
        {
          "output_type": "execute_result",
          "data": {
            "text/html": [
              "<div>\n",
              "<style scoped>\n",
              "    .dataframe tbody tr th:only-of-type {\n",
              "        vertical-align: middle;\n",
              "    }\n",
              "\n",
              "    .dataframe tbody tr th {\n",
              "        vertical-align: top;\n",
              "    }\n",
              "\n",
              "    .dataframe thead th {\n",
              "        text-align: right;\n",
              "    }\n",
              "</style>\n",
              "<table border=\"1\" class=\"dataframe\">\n",
              "  <thead>\n",
              "    <tr style=\"text-align: right;\">\n",
              "      <th></th>\n",
              "      <th>CONVERSATION ID</th>\n",
              "      <th>CONVERSATION TITLE</th>\n",
              "      <th>FROM</th>\n",
              "      <th>SENDER PROFILE URL</th>\n",
              "      <th>TO</th>\n",
              "      <th>DATE</th>\n",
              "      <th>SUBJECT</th>\n",
              "      <th>CONTENT</th>\n",
              "      <th>FOLDER</th>\n",
              "    </tr>\n",
              "  </thead>\n",
              "  <tbody>\n",
              "    <tr>\n",
              "      <th>0</th>\n",
              "      <td>2-NDU2NjdhNTktYmYwZS00ZTY2LThlMTUtYTI3YTZiYWNm...</td>\n",
              "      <td>Seu perfil vem sendo notado</td>\n",
              "      <td>Melissa da Equipe LinkedIn Premium</td>\n",
              "      <td>NaN</td>\n",
              "      <td>LinkedIn Member</td>\n",
              "      <td>2021-07-21 16:04:00 UTC</td>\n",
              "      <td>NaN</td>\n",
              "      <td>&lt;p class=\"spinmail-quill-editor__spin-break\"&gt;O...</td>\n",
              "      <td>INBOX</td>\n",
              "    </tr>\n",
              "  </tbody>\n",
              "</table>\n",
              "</div>"
            ],
            "text/plain": [
              "                                     CONVERSATION ID  ... FOLDER\n",
              "0  2-NDU2NjdhNTktYmYwZS00ZTY2LThlMTUtYTI3YTZiYWNm...  ...  INBOX\n",
              "\n",
              "[1 rows x 9 columns]"
            ]
          },
          "metadata": {
            "tags": []
          },
          "execution_count": 91
        }
      ]
    },
    {
      "cell_type": "code",
      "metadata": {
        "id": "3YW7r6xgSjHf"
      },
      "source": [
        "mensagens = mensagens[\"CONTENT\"]"
      ],
      "execution_count": 92,
      "outputs": []
    },
    {
      "cell_type": "code",
      "metadata": {
        "colab": {
          "base_uri": "https://localhost:8080/"
        },
        "id": "wppXPdHzSsc3",
        "outputId": "0767073d-15bc-4c3e-af4e-de5ffdddd707"
      },
      "source": [
        "mensagens.isna().sum()"
      ],
      "execution_count": 93,
      "outputs": [
        {
          "output_type": "execute_result",
          "data": {
            "text/plain": [
              "1"
            ]
          },
          "metadata": {
            "tags": []
          },
          "execution_count": 93
        }
      ]
    },
    {
      "cell_type": "code",
      "metadata": {
        "colab": {
          "base_uri": "https://localhost:8080/"
        },
        "id": "p8QeSGBGSy_i",
        "outputId": "c6d4b71f-9d34-4dd2-8bb2-88cb7ffdb41f"
      },
      "source": [
        "mensagens.dropna(inplace=True)\n",
        "mensagens.shape"
      ],
      "execution_count": 94,
      "outputs": [
        {
          "output_type": "execute_result",
          "data": {
            "text/plain": [
              "(138,)"
            ]
          },
          "metadata": {
            "tags": []
          },
          "execution_count": 94
        }
      ]
    },
    {
      "cell_type": "code",
      "metadata": {
        "id": "nbLx0lMyS-Kp"
      },
      "source": [
        "mensagens.to_csv(\"mensagens.csv\")"
      ],
      "execution_count": 95,
      "outputs": []
    }
  ]
}